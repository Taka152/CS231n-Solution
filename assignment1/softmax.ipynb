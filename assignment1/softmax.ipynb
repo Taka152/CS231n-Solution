{
 "cells": [
  {
   "cell_type": "markdown",
   "metadata": {
    "deletable": true,
    "editable": true
   },
   "source": [
    "# Softmax exercise\n",
    "\n",
    "*Complete and hand in this completed worksheet (including its outputs and any supporting code outside of the worksheet) with your assignment submission. For more details see the [assignments page](http://vision.stanford.edu/teaching/cs231n/assignments.html) on the course website.*\n",
    "\n",
    "This exercise is analogous to the SVM exercise. You will:\n",
    "\n",
    "- implement a fully-vectorized **loss function** for the Softmax classifier\n",
    "- implement the fully-vectorized expression for its **analytic gradient**\n",
    "- **check your implementation** with numerical gradient\n",
    "- use a validation set to **tune the learning rate and regularization** strength\n",
    "- **optimize** the loss function with **SGD**\n",
    "- **visualize** the final learned weights\n"
   ]
  },
  {
   "cell_type": "code",
   "execution_count": 1,
   "metadata": {
    "collapsed": false,
    "deletable": true,
    "editable": true
   },
   "outputs": [],
   "source": [
    "import random\n",
    "import numpy as np\n",
    "from cs231n.data_utils import load_CIFAR10\n",
    "import matplotlib.pyplot as plt\n",
    "%matplotlib inline\n",
    "plt.rcParams['figure.figsize'] = (10.0, 8.0) # set default size of plots\n",
    "plt.rcParams['image.interpolation'] = 'nearest'\n",
    "plt.rcParams['image.cmap'] = 'gray'\n",
    "\n",
    "# for auto-reloading extenrnal modules\n",
    "# see http://stackoverflow.com/questions/1907993/autoreload-of-modules-in-ipython\n",
    "%load_ext autoreload\n",
    "%autoreload 2"
   ]
  },
  {
   "cell_type": "code",
   "execution_count": 2,
   "metadata": {
    "collapsed": false,
    "deletable": true,
    "editable": true
   },
   "outputs": [
    {
     "name": "stdout",
     "output_type": "stream",
     "text": [
      "Train data shape:  (49000, 3073)\n",
      "Train labels shape:  (49000,)\n",
      "Validation data shape:  (1000, 3073)\n",
      "Validation labels shape:  (1000,)\n",
      "Test data shape:  (1000, 3073)\n",
      "Test labels shape:  (1000,)\n",
      "dev data shape:  (500, 3073)\n",
      "dev labels shape:  (500,)\n"
     ]
    }
   ],
   "source": [
    "def get_CIFAR10_data(num_training=49000, num_validation=1000, num_test=1000, num_dev=500):\n",
    "  \"\"\"\n",
    "  Load the CIFAR-10 dataset from disk and perform preprocessing to prepare\n",
    "  it for the linear classifier. These are the same steps as we used for the\n",
    "  SVM, but condensed to a single function.  \n",
    "  \"\"\"\n",
    "  # Load the raw CIFAR-10 data\n",
    "  cifar10_dir = 'cs231n/datasets/cifar-10-batches-py'\n",
    "  X_train, y_train, X_test, y_test = load_CIFAR10(cifar10_dir)\n",
    "  \n",
    "  # subsample the data\n",
    "  mask = range(num_training, num_training + num_validation)\n",
    "  X_val = X_train[mask]\n",
    "  y_val = y_train[mask]\n",
    "  mask = range(num_training)\n",
    "  X_train = X_train[mask]\n",
    "  y_train = y_train[mask]\n",
    "  mask = range(num_test)\n",
    "  X_test = X_test[mask]\n",
    "  y_test = y_test[mask]\n",
    "  mask = np.random.choice(num_training, num_dev, replace=False)\n",
    "  X_dev = X_train[mask]\n",
    "  y_dev = y_train[mask]\n",
    "  \n",
    "  # Preprocessing: reshape the image data into rows\n",
    "  X_train = np.reshape(X_train, (X_train.shape[0], -1))\n",
    "  X_val = np.reshape(X_val, (X_val.shape[0], -1))\n",
    "  X_test = np.reshape(X_test, (X_test.shape[0], -1))\n",
    "  X_dev = np.reshape(X_dev, (X_dev.shape[0], -1))\n",
    "  \n",
    "  # Normalize the data: subtract the mean image\n",
    "  mean_image = np.mean(X_train, axis = 0)\n",
    "  X_train -= mean_image\n",
    "  X_val -= mean_image\n",
    "  X_test -= mean_image\n",
    "  X_dev -= mean_image\n",
    "  \n",
    "  # add bias dimension and transform into columns\n",
    "  X_train = np.hstack([X_train, np.ones((X_train.shape[0], 1))])\n",
    "  X_val = np.hstack([X_val, np.ones((X_val.shape[0], 1))])\n",
    "  X_test = np.hstack([X_test, np.ones((X_test.shape[0], 1))])\n",
    "  X_dev = np.hstack([X_dev, np.ones((X_dev.shape[0], 1))])\n",
    "  \n",
    "  return X_train, y_train, X_val, y_val, X_test, y_test, X_dev, y_dev\n",
    "\n",
    "\n",
    "# Invoke the above function to get our data.\n",
    "X_train, y_train, X_val, y_val, X_test, y_test, X_dev, y_dev = get_CIFAR10_data()\n",
    "print 'Train data shape: ', X_train.shape\n",
    "print 'Train labels shape: ', y_train.shape\n",
    "print 'Validation data shape: ', X_val.shape\n",
    "print 'Validation labels shape: ', y_val.shape\n",
    "print 'Test data shape: ', X_test.shape\n",
    "print 'Test labels shape: ', y_test.shape\n",
    "print 'dev data shape: ', X_dev.shape\n",
    "print 'dev labels shape: ', y_dev.shape"
   ]
  },
  {
   "cell_type": "markdown",
   "metadata": {
    "deletable": true,
    "editable": true
   },
   "source": [
    "## Softmax Classifier\n",
    "\n",
    "Your code for this section will all be written inside **cs231n/classifiers/softmax.py**. \n"
   ]
  },
  {
   "cell_type": "code",
   "execution_count": 3,
   "metadata": {
    "collapsed": false,
    "deletable": true,
    "editable": true
   },
   "outputs": [
    {
     "name": "stdout",
     "output_type": "stream",
     "text": [
      "loss: 2.399729\n",
      "sanity check: 2.302585\n"
     ]
    }
   ],
   "source": [
    "# First implement the naive softmax loss function with nested loops.\n",
    "# Open the file cs231n/classifiers/softmax.py and implement the\n",
    "# softmax_loss_naive function.\n",
    "\n",
    "from cs231n.classifiers.softmax import softmax_loss_naive\n",
    "import time\n",
    "\n",
    "# Generate a random softmax weight matrix and use it to compute the loss.\n",
    "W = np.random.randn(3073, 10) * 0.0001\n",
    "loss, grad = softmax_loss_naive(W, X_dev, y_dev, 0.0)\n",
    "\n",
    "# As a rough sanity check, our loss should be something close to -log(0.1).\n",
    "print 'loss: %f' % loss\n",
    "print 'sanity check: %f' % (-np.log(0.1))"
   ]
  },
  {
   "cell_type": "markdown",
   "metadata": {
    "deletable": true,
    "editable": true
   },
   "source": [
    "## Inline Question 1:\n",
    "Why do we expect our loss to be close to -log(0.1)? Explain **briefly.**\n",
    "\n",
    "**Your answer:** \n",
    "\n",
    "*Because of random initialization of small value of W, each class's score is near 0 thus their exponention are near 1*\n"
   ]
  },
  {
   "cell_type": "code",
   "execution_count": 4,
   "metadata": {
    "collapsed": false,
    "deletable": true,
    "editable": true
   },
   "outputs": [
    {
     "name": "stdout",
     "output_type": "stream",
     "text": [
      "numerical: 2.426711 analytic: 2.426711, relative error: 2.965715e-08\n",
      "numerical: 1.516665 analytic: 1.516665, relative error: 1.239035e-08\n",
      "numerical: 3.082460 analytic: 3.082460, relative error: 8.348684e-09\n",
      "numerical: -4.133306 analytic: -4.133306, relative error: 1.182729e-08\n",
      "numerical: -0.010745 analytic: -0.010745, relative error: 1.388068e-06\n",
      "numerical: 0.872796 analytic: 0.872796, relative error: 1.813397e-08\n",
      "numerical: 5.744416 analytic: 5.744416, relative error: 5.591960e-09\n",
      "numerical: -3.490944 analytic: -3.490944, relative error: 1.328412e-08\n",
      "numerical: 1.886726 analytic: 1.886726, relative error: 1.202795e-08\n",
      "numerical: -0.599355 analytic: -0.599355, relative error: 1.186670e-08\n",
      "numerical: 0.175539 analytic: 0.175539, relative error: 2.131317e-09\n",
      "numerical: -6.522504 analytic: -6.522504, relative error: 1.765126e-09\n",
      "numerical: -2.737488 analytic: -2.737488, relative error: 1.297816e-08\n",
      "numerical: -2.474112 analytic: -2.474112, relative error: 2.060979e-08\n",
      "numerical: -1.486801 analytic: -1.486801, relative error: 1.223250e-08\n",
      "numerical: 0.135376 analytic: 0.135376, relative error: 7.225820e-08\n",
      "numerical: -1.190966 analytic: -1.190966, relative error: 3.471617e-08\n",
      "numerical: 2.454053 analytic: 2.454053, relative error: 7.368249e-09\n",
      "numerical: 1.332541 analytic: 1.332541, relative error: 8.194635e-09\n",
      "numerical: 1.239801 analytic: 1.239801, relative error: 1.066538e-08\n"
     ]
    }
   ],
   "source": [
    "# Complete the implementation of softmax_loss_naive and implement a (naive)\n",
    "# version of the gradient that uses nested loops.\n",
    "loss, grad = softmax_loss_naive(W, X_dev, y_dev, 0.0)\n",
    "\n",
    "# As we did for the SVM, use numeric gradient checking as a debugging tool.\n",
    "# The numeric gradient should be close to the analytic gradient.\n",
    "from cs231n.gradient_check import grad_check_sparse\n",
    "f = lambda w: softmax_loss_naive(w, X_dev, y_dev, 0.0)[0]\n",
    "grad_numerical = grad_check_sparse(f, W, grad, 10)\n",
    "\n",
    "# similar to SVM case, do another gradient check with regularization\n",
    "loss, grad = softmax_loss_naive(W, X_dev, y_dev, 1e2)\n",
    "f = lambda w: softmax_loss_naive(w, X_dev, y_dev, 1e2)[0]\n",
    "grad_numerical = grad_check_sparse(f, W, grad, 10)"
   ]
  },
  {
   "cell_type": "code",
   "execution_count": 5,
   "metadata": {
    "collapsed": false,
    "deletable": true,
    "editable": true
   },
   "outputs": [
    {
     "name": "stdout",
     "output_type": "stream",
     "text": [
      "naive loss: 2.399729e+00 computed in 0.060099s\n",
      "vectorized loss: 2.399729e+00 computed in 0.007862s\n",
      "Loss difference: 0.000000\n",
      "Gradient difference: 0.000000\n"
     ]
    }
   ],
   "source": [
    "# Now that we have a naive implementation of the softmax loss function and its gradient,\n",
    "# implement a vectorized version in softmax_loss_vectorized.\n",
    "# The two versions should compute the same results, but the vectorized version should be\n",
    "# much faster.\n",
    "tic = time.time()\n",
    "loss_naive, grad_naive = softmax_loss_naive(W, X_dev, y_dev, 0.00001)\n",
    "toc = time.time()\n",
    "print 'naive loss: %e computed in %fs' % (loss_naive, toc - tic)\n",
    "\n",
    "from cs231n.classifiers.softmax import softmax_loss_vectorized\n",
    "tic = time.time()\n",
    "loss_vectorized, grad_vectorized = softmax_loss_vectorized(W, X_dev, y_dev, 0.00001)\n",
    "toc = time.time()\n",
    "print 'vectorized loss: %e computed in %fs' % (loss_vectorized, toc - tic)\n",
    "\n",
    "# As we did for the SVM, we use the Frobenius norm to compare the two versions\n",
    "# of the gradient.\n",
    "grad_difference = np.linalg.norm(grad_naive - grad_vectorized, ord='fro')\n",
    "print 'Loss difference: %f' % np.abs(loss_naive - loss_vectorized)\n",
    "print 'Gradient difference: %f' % grad_difference"
   ]
  },
  {
   "cell_type": "code",
   "execution_count": 6,
   "metadata": {
    "collapsed": false,
    "deletable": true,
    "editable": true
   },
   "outputs": [
    {
     "name": "stdout",
     "output_type": "stream",
     "text": [
      "lr 1.000000e-07 reg 1.000000e+04 train accuracy: 0.333878 val accuracy: 0.356000\n",
      "lr 1.000000e-07 reg 2.000000e+04 train accuracy: 0.352714 val accuracy: 0.360000\n",
      "lr 1.000000e-07 reg 3.000000e+04 train accuracy: 0.346592 val accuracy: 0.361000\n",
      "lr 1.000000e-07 reg 4.000000e+04 train accuracy: 0.339347 val accuracy: 0.350000\n",
      "lr 1.000000e-07 reg 5.000000e+04 train accuracy: 0.326000 val accuracy: 0.341000\n",
      "lr 1.000000e-07 reg 6.000000e+04 train accuracy: 0.321184 val accuracy: 0.339000\n",
      "lr 1.000000e-07 reg 7.000000e+04 train accuracy: 0.312776 val accuracy: 0.330000\n",
      "lr 2.000000e-07 reg 1.000000e+04 train accuracy: 0.373694 val accuracy: 0.384000\n",
      "lr 2.000000e-07 reg 2.000000e+04 train accuracy: 0.361510 val accuracy: 0.373000\n",
      "lr 2.000000e-07 reg 3.000000e+04 train accuracy: 0.344490 val accuracy: 0.368000\n",
      "lr 2.000000e-07 reg 4.000000e+04 train accuracy: 0.332571 val accuracy: 0.353000\n",
      "lr 2.000000e-07 reg 5.000000e+04 train accuracy: 0.327265 val accuracy: 0.342000\n",
      "lr 2.000000e-07 reg 6.000000e+04 train accuracy: 0.326367 val accuracy: 0.331000\n",
      "lr 2.000000e-07 reg 7.000000e+04 train accuracy: 0.317020 val accuracy: 0.329000\n",
      "lr 3.000000e-07 reg 1.000000e+04 train accuracy: 0.373061 val accuracy: 0.378000\n",
      "lr 3.000000e-07 reg 2.000000e+04 train accuracy: 0.354592 val accuracy: 0.371000\n",
      "lr 3.000000e-07 reg 3.000000e+04 train accuracy: 0.344469 val accuracy: 0.356000\n",
      "lr 3.000000e-07 reg 4.000000e+04 train accuracy: 0.335449 val accuracy: 0.350000\n",
      "lr 3.000000e-07 reg 5.000000e+04 train accuracy: 0.329347 val accuracy: 0.342000\n",
      "lr 3.000000e-07 reg 6.000000e+04 train accuracy: 0.321490 val accuracy: 0.326000\n",
      "lr 3.000000e-07 reg 7.000000e+04 train accuracy: 0.309592 val accuracy: 0.318000\n",
      "lr 4.000000e-07 reg 1.000000e+04 train accuracy: 0.374755 val accuracy: 0.388000\n",
      "lr 4.000000e-07 reg 2.000000e+04 train accuracy: 0.357592 val accuracy: 0.376000\n",
      "lr 4.000000e-07 reg 3.000000e+04 train accuracy: 0.342837 val accuracy: 0.367000\n",
      "lr 4.000000e-07 reg 4.000000e+04 train accuracy: 0.334061 val accuracy: 0.350000\n",
      "lr 4.000000e-07 reg 5.000000e+04 train accuracy: 0.334000 val accuracy: 0.347000\n",
      "lr 4.000000e-07 reg 6.000000e+04 train accuracy: 0.326388 val accuracy: 0.333000\n",
      "lr 4.000000e-07 reg 7.000000e+04 train accuracy: 0.320714 val accuracy: 0.333000\n",
      "lr 5.000000e-07 reg 1.000000e+04 train accuracy: 0.374612 val accuracy: 0.389000\n",
      "lr 5.000000e-07 reg 2.000000e+04 train accuracy: 0.357204 val accuracy: 0.363000\n",
      "lr 5.000000e-07 reg 3.000000e+04 train accuracy: 0.336429 val accuracy: 0.356000\n",
      "lr 5.000000e-07 reg 4.000000e+04 train accuracy: 0.332531 val accuracy: 0.349000\n",
      "lr 5.000000e-07 reg 5.000000e+04 train accuracy: 0.328163 val accuracy: 0.328000\n",
      "lr 5.000000e-07 reg 6.000000e+04 train accuracy: 0.316714 val accuracy: 0.338000\n",
      "lr 5.000000e-07 reg 7.000000e+04 train accuracy: 0.304388 val accuracy: 0.312000\n",
      "lr 6.000000e-07 reg 1.000000e+04 train accuracy: 0.366633 val accuracy: 0.378000\n",
      "lr 6.000000e-07 reg 2.000000e+04 train accuracy: 0.356122 val accuracy: 0.379000\n",
      "lr 6.000000e-07 reg 3.000000e+04 train accuracy: 0.337796 val accuracy: 0.354000\n",
      "lr 6.000000e-07 reg 4.000000e+04 train accuracy: 0.333735 val accuracy: 0.342000\n",
      "lr 6.000000e-07 reg 5.000000e+04 train accuracy: 0.323980 val accuracy: 0.334000\n",
      "lr 6.000000e-07 reg 6.000000e+04 train accuracy: 0.301469 val accuracy: 0.313000\n",
      "lr 6.000000e-07 reg 7.000000e+04 train accuracy: 0.310061 val accuracy: 0.336000\n",
      "lr 7.000000e-07 reg 1.000000e+04 train accuracy: 0.368122 val accuracy: 0.371000\n",
      "lr 7.000000e-07 reg 2.000000e+04 train accuracy: 0.344429 val accuracy: 0.362000\n",
      "lr 7.000000e-07 reg 3.000000e+04 train accuracy: 0.342694 val accuracy: 0.358000\n",
      "lr 7.000000e-07 reg 4.000000e+04 train accuracy: 0.342224 val accuracy: 0.359000\n",
      "lr 7.000000e-07 reg 5.000000e+04 train accuracy: 0.320592 val accuracy: 0.324000\n",
      "lr 7.000000e-07 reg 6.000000e+04 train accuracy: 0.314980 val accuracy: 0.331000\n",
      "lr 7.000000e-07 reg 7.000000e+04 train accuracy: 0.305735 val accuracy: 0.309000\n",
      "best validation accuracy achieved during cross-validation: 0.389000\n"
     ]
    }
   ],
   "source": [
    "# Use the validation set to tune hyperparameters (regularization strength and\n",
    "# learning rate). You should experiment with different ranges for the learning\n",
    "# rates and regularization strengths; if you are careful you should be able to\n",
    "# get a classification accuracy of over 0.35 on the validation set.\n",
    "from cs231n.classifiers import Softmax\n",
    "results = {}\n",
    "best_val = -1\n",
    "best_softmax = None\n",
    "# learning_rates = [1e-7, 5e-7]\n",
    "# regularization_strengths = [5e4, 1e8]\n",
    "learning_rates = [1e-7, 2e-7, 3e-7, 4e-7, 5e-7, 6e-7, 7e-7]\n",
    "regularization_strengths = [1e4, 2e4, 3e4, 4e4, 5e4, 6e4, 7e4]\n",
    "\n",
    "################################################################################\n",
    "# TODO:                                                                        #\n",
    "# Use the validation set to set the learning rate and regularization strength. #\n",
    "# This should be identical to the validation that you did for the SVM; save    #\n",
    "# the best trained softmax classifer in best_softmax.                          #\n",
    "################################################################################\n",
    "\n",
    "num_iters = 1500\n",
    "for lr in learning_rates:\n",
    "    for reg in regularization_strengths:\n",
    "        sm = Softmax()\n",
    "        sm.train(X_train, y_train, lr, reg, num_iters)\n",
    "        \n",
    "        y_train_pred = sm.predict(X_train)\n",
    "        train_acc = np.mean(y_train_pred == y_train)\n",
    "        \n",
    "        y_val_pred = sm.predict(X_val)\n",
    "        val_acc = np.mean(y_val_pred == y_val)\n",
    "        \n",
    "        results[(lr, reg)] = (train_acc, val_acc)\n",
    "        \n",
    "        if val_acc > best_val:\n",
    "            best_val = val_acc\n",
    "            best_softmax = sm\n",
    "\n",
    "################################################################################\n",
    "#                              END OF YOUR CODE                                #\n",
    "################################################################################\n",
    "    \n",
    "# Print out results.\n",
    "for lr, reg in sorted(results):\n",
    "    train_accuracy, val_accuracy = results[(lr, reg)]\n",
    "    print 'lr %e reg %e train accuracy: %f val accuracy: %f' % (\n",
    "                lr, reg, train_accuracy, val_accuracy)\n",
    "    \n",
    "print 'best validation accuracy achieved during cross-validation: %f' % best_val"
   ]
  },
  {
   "cell_type": "code",
   "execution_count": 7,
   "metadata": {
    "collapsed": false,
    "deletable": true,
    "editable": true
   },
   "outputs": [
    {
     "name": "stdout",
     "output_type": "stream",
     "text": [
      "softmax on raw pixels final test set accuracy: 0.373000\n"
     ]
    }
   ],
   "source": [
    "# evaluate on test set\n",
    "# Evaluate the best softmax on test set\n",
    "y_test_pred = best_softmax.predict(X_test)\n",
    "test_accuracy = np.mean(y_test == y_test_pred)\n",
    "print 'softmax on raw pixels final test set accuracy: %f' % (test_accuracy, )"
   ]
  },
  {
   "cell_type": "code",
   "execution_count": 8,
   "metadata": {
    "collapsed": false,
    "deletable": true,
    "editable": true
   },
   "outputs": [
    {
     "data": {
      "image/png": "[encoded data removed]",
      "text/plain": [
       "<matplotlib.figure.Figure at 0x7f9e16579fd0>"
      ]
     },
     "metadata": {},
     "output_type": "display_data"
    }
   ],
   "source": [
    "# Visualize the learned weights for each class\n",
    "w = best_softmax.W[:-1,:] # strip out the bias\n",
    "w = w.reshape(32, 32, 3, 10)\n",
    "\n",
    "w_min, w_max = np.min(w), np.max(w)\n",
    "\n",
    "classes = ['plane', 'car', 'bird', 'cat', 'deer', 'dog', 'frog', 'horse', 'ship', 'truck']\n",
    "for i in xrange(10):\n",
    "  plt.subplot(2, 5, i + 1)\n",
    "  \n",
    "  # Rescale the weights to be between 0 and 255\n",
    "  wimg = 255.0 * (w[:, :, :, i].squeeze() - w_min) / (w_max - w_min)\n",
    "  plt.imshow(wimg.astype('uint8'))\n",
    "  plt.axis('off')\n",
    "  plt.title(classes[i])"
   ]
  }
 ],
 "metadata": {
  "kernelspec": {
   "display_name": "Python 2",
   "language": "python",
   "name": "python2"
  },
  "language_info": {
   "codemirror_mode": {
    "name": "ipython",
    "version": 2
   },
   "file_extension": ".py",
   "mimetype": "text/x-python",
   "name": "python",
   "nbconvert_exporter": "python",
   "pygments_lexer": "ipython2",
   "version": "2.7.12"
  }
 },
 "nbformat": 4,
 "nbformat_minor": 0
}
